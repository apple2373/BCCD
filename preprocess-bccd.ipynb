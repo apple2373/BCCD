{
 "cells": [
  {
   "cell_type": "code",
   "execution_count": 3,
   "id": "53ff2072-8b20-4a48-8740-0e8b002e8d69",
   "metadata": {},
   "outputs": [],
   "source": [
    "import pandas as pd\n",
    "from pathlib import Path\n",
    "from PIL import Image\n",
    "import glob\n",
    "from collections import Counter\n",
    "\n",
    "classes = ['neutrophil', 'lymphocyte', 'monocyte', 'eosinophil', 'basophil']\n",
    "\n",
    "root = './An-Automatic-Nucleus-Segmentation-and-CNN-Model-based-Classification-Method-of-White-Blood-Cell/wbc_nucleus_seg_localz/BCCD_seg_cropped_img/'"
   ]
  },
  {
   "cell_type": "code",
   "execution_count": 4,
   "id": "843cc0e4-c09a-4e32-87d0-2137b613da2d",
   "metadata": {},
   "outputs": [
    {
     "name": "stdout",
     "output_type": "stream",
     "text": [
      "Cloning into 'An-Automatic-Nucleus-Segmentation-and-CNN-Model-based-Classification-Method-of-White-Blood-Cell'...\n",
      "remote: Enumerating objects: 16252, done.\u001b[K\n",
      "remote: Counting objects: 100% (134/134), done.\u001b[K\n",
      "remote: Compressing objects: 100% (91/91), done.\u001b[K\n",
      "remote: Total 16252 (delta 71), reused 89 (delta 41), pack-reused 16118\u001b[K\n",
      "Receiving objects: 100% (16252/16252), 438.34 MiB | 16.83 MiB/s, done.\n",
      "Resolving deltas: 100% (239/239), done.\n",
      "*.jpg is not a valid attribute name: wbc_classify_cnn_model/.gitattributes:5\n",
      "*.jpeg is not a valid attribute name: wbc_classify_cnn_model/.gitattributes:6\n",
      "*.png is not a valid attribute name: wbc_classify_cnn_model/.gitattributes:7\n",
      "Updating files: 100% (15904/15904), done.\n"
     ]
    }
   ],
   "source": [
    "!git clone https://github.com/ParthaPratimBanik/An-Automatic-Nucleus-Segmentation-and-CNN-Model-based-Classification-Method-of-White-Blood-Cell/"
   ]
  },
  {
   "cell_type": "code",
   "execution_count": 5,
   "id": "099a49a2-ab9a-4b2b-899a-df49ca93e8f1",
   "metadata": {},
   "outputs": [
    {
     "name": "stdout",
     "output_type": "stream",
     "text": [
      "skipping BloodImage_00010_1.png because its caregory is neutrophil, eosinophil\n",
      "skipping BloodImage_00031_1.png because its caregory is neutrophil,neutrophil\n",
      "skipping BloodImage_00034_1.png because its caregory is neutrophil,basophil\n",
      "skipping BloodImage_00043_1.png because its caregory is neutrophil, monocyte\n",
      "skipping BloodImage_00044_1.png because its caregory is eosinophil,eosinophil\n",
      "skipping BloodImage_00065_1.png because its caregory is neutrophil, neutrophil\n",
      "skipping BloodImage_00070_1.png because its caregory is eosinophil, lymphocyte\n",
      "skipping BloodImage_00103_1.png because its caregory is eosinophil, eosinophil\n",
      "skipping BloodImage_00117_1.png because its caregory is nan\n",
      "skipping BloodImage_00176_1.png because its caregory is monocyte, lymphocyte\n",
      "skipping BloodImage_00193_1.png because its caregory is neutrophil, eosinophil\n",
      "skipping BloodImage_00195_1.png because its caregory is lymphocyte, lymphocyte\n",
      "skipping BloodImage_00242_1.png because its caregory is neutrophil,eosinophil\n",
      "skipping BloodImage_00249_1.png because its caregory is neutrophil, neutrophil\n",
      "skipping BloodImage_00313_1.png because its caregory is neutrophil, lymphocyte\n",
      "skipping BloodImage_00374_1.png because its caregory is neutrophil, neutrophil\n"
     ]
    }
   ],
   "source": [
    "df = pd.read_csv('labels.csv', index_col=[0]).set_index('Image',drop=False)\n",
    "for path in Path(root).glob(\"*.png\"):\n",
    "    image_id = int(path.name.split(\"_\")[1])\n",
    "    label = df.loc[image_id,'Category']\n",
    "    \n",
    "    if isinstance(label,str):\n",
    "        label = label.strip().lower()\n",
    "    \n",
    "    if label not in classes:\n",
    "        print(f\"skipping {path.name} because its caregory is {label}\")\n",
    "        continue\n",
    "    \n",
    "    img = Image.open(path)\n",
    "    img_path = Path(f\"./BCCD_cropped/{label.capitalize()}/{path.with_suffix('.jpg').name}\")\n",
    "    img_path.parent.mkdir(exist_ok=True,parents=True)\n",
    "    img.save(img_path)"
   ]
  },
  {
   "cell_type": "code",
   "execution_count": 6,
   "id": "c420d3e5-f0eb-49ff-aee7-dfd6c559fb6f",
   "metadata": {},
   "outputs": [],
   "source": [
    "img_paths = glob.glob(\"./BCCD_cropped/*/*.jpg\")\n",
    "labels = [Path(path).parent.name for path in img_paths]"
   ]
  },
  {
   "cell_type": "code",
   "execution_count": 7,
   "id": "28736063-0402-4181-989f-c2e31177eb10",
   "metadata": {},
   "outputs": [
    {
     "data": {
      "text/plain": [
       "351"
      ]
     },
     "execution_count": 7,
     "metadata": {},
     "output_type": "execute_result"
    }
   ],
   "source": [
    "len(img_paths)"
   ]
  },
  {
   "cell_type": "code",
   "execution_count": 8,
   "id": "b55ebd71-f5bb-461e-818e-600f0a253b1c",
   "metadata": {},
   "outputs": [
    {
     "data": {
      "text/plain": [
       "[('Neutrophil', 207),\n",
       " ('Eosinophil', 88),\n",
       " ('Lymphocyte', 33),\n",
       " ('Monocyte', 20),\n",
       " ('Basophil', 3)]"
      ]
     },
     "execution_count": 8,
     "metadata": {},
     "output_type": "execute_result"
    }
   ],
   "source": [
    "counter = Counter(labels)\n",
    "counter.most_common()"
   ]
  },
  {
   "cell_type": "code",
   "execution_count": 10,
   "id": "bdf2a850-65bd-45a4-abf7-277528a3d7e6",
   "metadata": {},
   "outputs": [
    {
     "name": "stdout",
     "output_type": "stream",
     "text": [
      "| Label      |   Count |\n",
      "|:-----------|--------:|\n",
      "| Neutrophil |     207 |\n",
      "| Eosinophil |      88 |\n",
      "| Lymphocyte |      33 |\n",
      "| Monocyte   |      20 |\n",
      "| Basophil   |       3 |\n"
     ]
    }
   ],
   "source": [
    "print(pd.DataFrame(counter.most_common(),index=None,columns=['Label','Count']).to_markdown(index=False))"
   ]
  },
  {
   "cell_type": "code",
   "execution_count": null,
   "id": "bf1ecdc8",
   "metadata": {},
   "outputs": [],
   "source": []
  }
 ],
 "metadata": {
  "kernelspec": {
   "display_name": "Python 3.8.13 ('wbc')",
   "language": "python",
   "name": "python3"
  },
  "language_info": {
   "codemirror_mode": {
    "name": "ipython",
    "version": 3
   },
   "file_extension": ".py",
   "mimetype": "text/x-python",
   "name": "python",
   "nbconvert_exporter": "python",
   "pygments_lexer": "ipython3",
   "version": "3.8.13"
  },
  "vscode": {
   "interpreter": {
    "hash": "981a995f9d42bcd9619d8917ad0bd92c77bc6f2ab6982e76d8a88f36f24a7f15"
   }
  }
 },
 "nbformat": 4,
 "nbformat_minor": 5
}
